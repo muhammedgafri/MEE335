{
 "cells": [
  {
   "cell_type": "markdown",
   "id": "b15b2487",
   "metadata": {},
   "source": [
    "### where F is the net force, m is the mass of the body and a is the acceleration of the body. The force acting on the body results in an acceleration in the movement of the body, and it can also be expressed that if the body is in a state of acceleration, a force acts on it"
   ]
  },
  {
   "cell_type": "code",
   "execution_count": null,
   "id": "f6f1cdb3",
   "metadata": {
    "scrolled": false
   },
   "outputs": [],
   "source": [
    "m=int(input(\"Enter the mass of the body (kg)\"))\n",
    "a=int(input(\"Enter body acceleration(m/(s)^-2)\"))\n",
    "F=m*a\n",
    "print(\"The force of the body is \",F,'N')"
   ]
  },
  {
   "cell_type": "markdown",
   "id": "e02658cb",
   "metadata": {},
   "source": [
    "### The capacitance of an electrical conductor is a property that reflects its ability to hold an electric charge\n",
    "where C: electrical capacitance\n",
    "\n",
    "Q: electric charge\n",
    "\n",
    "V: electric potential\n"
   ]
  },
  {
   "cell_type": "code",
   "execution_count": null,
   "id": "534442a4",
   "metadata": {},
   "outputs": [],
   "source": [
    "Q=int(input(\"Enter the electric charThe kinetic energy of the body isge(q)\"))\n",
    "V=int(input(\"Enter the voltage(V)\"))\n",
    "C=Q/V\n",
    "print(\"The electrical capacitance is \",C,'C')The kinetic energy of the body is"
   ]
  },
  {
   "cell_type": "markdown",
   "id": "d2a07c3f",
   "metadata": {},
   "source": [
    "### Kinetic energy: the energy of a body resulting from\n"
   ]
  },
  {
   "cell_type": "code",
   "execution_count": null,
   "id": "320d3cdc",
   "metadata": {},
   "outputs": [],
   "source": [
    "m=int(input(\"Enter the mass of the body (kg)\"))\n",
    "v=int(input(\"Enter body velocity(m/s)\"))\n",
    "KE=(1/2)*m*v**2\n",
    "print(\"The kinetic energy of the body is\",KE,'J')"
   ]
  },
  {
   "cell_type": "code",
   "execution_count": null,
   "id": "b70b297f",
   "metadata": {},
   "outputs": [],
   "source": []
  }
 ],
 "metadata": {
  "kernelspec": {
   "display_name": "Python 3 (ipykernel)",
   "language": "python",
   "name": "python3"
  },
  "language_info": {
   "codemirror_mode": {
    "name": "ipython",
    "version": 3
   },
   "file_extension": ".py",
   "mimetype": "text/x-python",
   "name": "python",
   "nbconvert_exporter": "python",
   "pygments_lexer": "ipython3",
   "version": "3.9.12"
  }
 },
 "nbformat": 4,
 "nbformat_minor": 5
}
